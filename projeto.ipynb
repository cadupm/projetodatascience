{
 "cells": [
  {
   "source": [],
   "cell_type": "markdown",
   "metadata": {}
  },
  {
   "source": [
    "# Datascience project: Analising Brazilian Population, GDP and Murder Rates from 2002 to 2016"
   ],
   "cell_type": "markdown",
   "metadata": {}
  },
  {
   "cell_type": "code",
   "execution_count": 3,
   "metadata": {},
   "outputs": [],
   "source": [
    "import pandas as pd\n",
    "import numpy as np\n",
    "import matplotlib.pyplot as plt"
   ]
  },
  {
   "cell_type": "code",
   "execution_count": 4,
   "metadata": {},
   "outputs": [],
   "source": [
    "dfpib1 = pd.read_excel(\"datasets/PIB dos Municípios - base de dados 2002-2009.xls\")\n",
    "dfpib2 = pd.read_excel('datasets/PIB dos Municípios - base de dados 2010-2017.xls')\n",
    "dfhomi = pd.read_csv('datasets/homicidios.csv', sep=';')\n",
    "dfhomi = dfhomi.rename(columns={'valor':'homicidios'})\n",
    "dfpib2 = dfpib2[dfpib2.columns.values[:-3]]"
   ]
  },
  {
   "source": [
    "## Joining Murder rates and income datasets"
   ],
   "cell_type": "markdown",
   "metadata": {}
  },
  {
   "cell_type": "code",
   "execution_count": 5,
   "metadata": {},
   "outputs": [
    {
     "output_type": "execute_result",
     "data": {
      "text/plain": "   período  Código da Grande Região Nome da Grande Região  \\\n0     2002                        1                 Norte   \n1     2002                        1                 Norte   \n2     2002                        1                 Norte   \n3     2002                        1                 Norte   \n4     2002                        1                 Norte   \n\n   Código da Unidade da Federação Sigla da Unidade da Federação  \\\n0                              11                            RO   \n1                              11                            RO   \n2                              11                            RO   \n3                              11                            RO   \n4                              11                            RO   \n\n  Nome da Unidade da Federação      cod      Nome do Município  \\\n0                     Rondônia  1100015  Alta Floresta D&#39;Oeste   \n1                     Rondônia  1100023              Ariquemes   \n2                     Rondônia  1100031                 Cabixi   \n3                     Rondônia  1100049                 Cacoal   \n4                     Rondônia  1100056             Cerejeiras   \n\n  Região Metropolitana  Código da Mesorregião  ...  \\\n0                  NaN                   1102  ...   \n1                  NaN                   1102  ...   \n2                  NaN                   1102  ...   \n3                  NaN                   1102  ...   \n4                  NaN                   1102  ...   \n\n  Valor adicionado bruto da Agropecuária, \\na preços correntes\\n(R$ 1.000)  \\\n0                                          27013.223                         \n1                                          28590.178                         \n2                                          10883.801                         \n3                                          32810.376                         \n4                                          11283.793                         \n\n   Valor adicionado bruto da Indústria,\\na preços correntes\\n(R$ 1.000)  \\\n0                                           9376.871                      \n1                                          99922.936                      \n2                                           1961.907                      \n3                                          98292.764                      \n4                                           6651.475                      \n\n  Valor adicionado bruto dos Serviços,\\na preços correntes \\n- exceto Administração, defesa, educação e saúde públicas e seguridade social\\n(R$ 1.000)  \\\n0                                          24651.113                                                                                                     \n1                                         161851.549                                                                                                     \n2                                           5128.876                                                                                                     \n3                                         175748.703                                                                                                     \n4                                          25306.009                                                                                                     \n\n   Valor adicionado bruto da Administração, defesa, educação e saúde públicas e seguridade social, \\na preços correntes\\n(R$ 1.000)  \\\n0                                          42700.523                                                                                  \n1                                         116562.182                                                                                  \n2                                          11925.001                                                                                  \n3                                         117968.303                                                                                  \n4                                          27731.366                                                                                  \n\n  Valor adicionado bruto total, \\na preços correntes\\n(R$ 1.000)  \\\n0                                         103741.729               \n1                                         406926.845               \n2                                          29899.585               \n3                                         424820.146               \n4                                          70972.643               \n\n  Impostos, líquidos de subsídios, sobre produtos, \\na preços correntes\\n(R$ 1.000)  \\\n0                                           7549.266                                  \n1                                          42665.972                                  \n2                                           1867.935                                  \n3                                          49622.951                                  \n4                                           8200.971                                  \n\n   Produto Interno Bruto, \\na preços correntes\\n(R$ 1.000)  \\\n0                                         111290.995         \n1                                         449592.816         \n2                                          31767.520         \n3                                         474443.097         \n4                                          79173.614         \n\n  Produto Interno Bruto per capita, \\na preços correntes\\n(R$ 1,00)  \\\n0                                            4047.83                  \n1                                            5667.37                  \n2                                            4246.99                  \n3                                            6353.27                  \n4                                            4442.47                  \n\n                    nome  homicidios  \n0  Alta Floresta D&#39;Oeste   36.714763  \n1              Ariquemes   58.944887  \n2                 Cabixi    0.000000  \n3                 Cacoal   41.677310  \n4             Cerejeiras   16.736402  \n\n[5 rows x 42 columns]",
      "text/html": "<div>\n<style scoped>\n    .dataframe tbody tr th:only-of-type {\n        vertical-align: middle;\n    }\n\n    .dataframe tbody tr th {\n        vertical-align: top;\n    }\n\n    .dataframe thead th {\n        text-align: right;\n    }\n</style>\n<table border=\"1\" class=\"dataframe\">\n  <thead>\n    <tr style=\"text-align: right;\">\n      <th></th>\n      <th>período</th>\n      <th>Código da Grande Região</th>\n      <th>Nome da Grande Região</th>\n      <th>Código da Unidade da Federação</th>\n      <th>Sigla da Unidade da Federação</th>\n      <th>Nome da Unidade da Federação</th>\n      <th>cod</th>\n      <th>Nome do Município</th>\n      <th>Região Metropolitana</th>\n      <th>Código da Mesorregião</th>\n      <th>...</th>\n      <th>Valor adicionado bruto da Agropecuária, \\na preços correntes\\n(R$ 1.000)</th>\n      <th>Valor adicionado bruto da Indústria,\\na preços correntes\\n(R$ 1.000)</th>\n      <th>Valor adicionado bruto dos Serviços,\\na preços correntes \\n- exceto Administração, defesa, educação e saúde públicas e seguridade social\\n(R$ 1.000)</th>\n      <th>Valor adicionado bruto da Administração, defesa, educação e saúde públicas e seguridade social, \\na preços correntes\\n(R$ 1.000)</th>\n      <th>Valor adicionado bruto total, \\na preços correntes\\n(R$ 1.000)</th>\n      <th>Impostos, líquidos de subsídios, sobre produtos, \\na preços correntes\\n(R$ 1.000)</th>\n      <th>Produto Interno Bruto, \\na preços correntes\\n(R$ 1.000)</th>\n      <th>Produto Interno Bruto per capita, \\na preços correntes\\n(R$ 1,00)</th>\n      <th>nome</th>\n      <th>homicidios</th>\n    </tr>\n  </thead>\n  <tbody>\n    <tr>\n      <th>0</th>\n      <td>2002</td>\n      <td>1</td>\n      <td>Norte</td>\n      <td>11</td>\n      <td>RO</td>\n      <td>Rondônia</td>\n      <td>1100015</td>\n      <td>Alta Floresta D'Oeste</td>\n      <td>NaN</td>\n      <td>1102</td>\n      <td>...</td>\n      <td>27013.223</td>\n      <td>9376.871</td>\n      <td>24651.113</td>\n      <td>42700.523</td>\n      <td>103741.729</td>\n      <td>7549.266</td>\n      <td>111290.995</td>\n      <td>4047.83</td>\n      <td>Alta Floresta D'Oeste</td>\n      <td>36.714763</td>\n    </tr>\n    <tr>\n      <th>1</th>\n      <td>2002</td>\n      <td>1</td>\n      <td>Norte</td>\n      <td>11</td>\n      <td>RO</td>\n      <td>Rondônia</td>\n      <td>1100023</td>\n      <td>Ariquemes</td>\n      <td>NaN</td>\n      <td>1102</td>\n      <td>...</td>\n      <td>28590.178</td>\n      <td>99922.936</td>\n      <td>161851.549</td>\n      <td>116562.182</td>\n      <td>406926.845</td>\n      <td>42665.972</td>\n      <td>449592.816</td>\n      <td>5667.37</td>\n      <td>Ariquemes</td>\n      <td>58.944887</td>\n    </tr>\n    <tr>\n      <th>2</th>\n      <td>2002</td>\n      <td>1</td>\n      <td>Norte</td>\n      <td>11</td>\n      <td>RO</td>\n      <td>Rondônia</td>\n      <td>1100031</td>\n      <td>Cabixi</td>\n      <td>NaN</td>\n      <td>1102</td>\n      <td>...</td>\n      <td>10883.801</td>\n      <td>1961.907</td>\n      <td>5128.876</td>\n      <td>11925.001</td>\n      <td>29899.585</td>\n      <td>1867.935</td>\n      <td>31767.520</td>\n      <td>4246.99</td>\n      <td>Cabixi</td>\n      <td>0.000000</td>\n    </tr>\n    <tr>\n      <th>3</th>\n      <td>2002</td>\n      <td>1</td>\n      <td>Norte</td>\n      <td>11</td>\n      <td>RO</td>\n      <td>Rondônia</td>\n      <td>1100049</td>\n      <td>Cacoal</td>\n      <td>NaN</td>\n      <td>1102</td>\n      <td>...</td>\n      <td>32810.376</td>\n      <td>98292.764</td>\n      <td>175748.703</td>\n      <td>117968.303</td>\n      <td>424820.146</td>\n      <td>49622.951</td>\n      <td>474443.097</td>\n      <td>6353.27</td>\n      <td>Cacoal</td>\n      <td>41.677310</td>\n    </tr>\n    <tr>\n      <th>4</th>\n      <td>2002</td>\n      <td>1</td>\n      <td>Norte</td>\n      <td>11</td>\n      <td>RO</td>\n      <td>Rondônia</td>\n      <td>1100056</td>\n      <td>Cerejeiras</td>\n      <td>NaN</td>\n      <td>1102</td>\n      <td>...</td>\n      <td>11283.793</td>\n      <td>6651.475</td>\n      <td>25306.009</td>\n      <td>27731.366</td>\n      <td>70972.643</td>\n      <td>8200.971</td>\n      <td>79173.614</td>\n      <td>4442.47</td>\n      <td>Cerejeiras</td>\n      <td>16.736402</td>\n    </tr>\n  </tbody>\n</table>\n<p>5 rows × 42 columns</p>\n</div>"
     },
     "metadata": {},
     "execution_count": 5
    }
   ],
   "source": [
    "df = pd.concat([dfpib1,dfpib2])\n",
    "\n",
    "df = df.rename(columns={'Ano':'período', 'Código do Município':'cod'})\n",
    "df = df[df['período']<2017]\n",
    "# df = df.join(dfhomi.set_index('cod'), on='Código do Município')\n",
    "df = pd.merge(df,dfhomi,how='left', on=['período', 'cod'])\n",
    "df.head()"
   ]
  },
  {
   "cell_type": "code",
   "execution_count": 6,
   "metadata": {},
   "outputs": [],
   "source": [
    "# dftest = df[[df.columns.values[0],df.columns.values[6],df.columns.values[-4]]]\n",
    "# dftest=dftest.rename(columns={'Ano':'período', 'Código do Município':'cod'})\n",
    "# dftest.columns[1] = 'bb'#Ano Código d // cod, periodo\n",
    "# dftest = pd.merge(dftest,dfhomi,how='left', on=['período', 'cod'])\n",
    "# dftest[dftest['período']<2017]"
   ]
  },
  {
   "cell_type": "code",
   "execution_count": 7,
   "metadata": {
    "scrolled": true
   },
   "outputs": [
    {
     "output_type": "execute_result",
     "data": {
      "text/plain": "           cod    nome  período  homicidios\n1431   2611606  Recife     1996   53.044289\n7085   2611606  Recife     1997   73.565852\n12578  2611606  Recife     1998   81.504120\n18005  2611606  Recife     1999   65.670745\n23556  2611606  Recife     2000   69.082613",
      "text/html": "<div>\n<style scoped>\n    .dataframe tbody tr th:only-of-type {\n        vertical-align: middle;\n    }\n\n    .dataframe tbody tr th {\n        vertical-align: top;\n    }\n\n    .dataframe thead th {\n        text-align: right;\n    }\n</style>\n<table border=\"1\" class=\"dataframe\">\n  <thead>\n    <tr style=\"text-align: right;\">\n      <th></th>\n      <th>cod</th>\n      <th>nome</th>\n      <th>período</th>\n      <th>homicidios</th>\n    </tr>\n  </thead>\n  <tbody>\n    <tr>\n      <th>1431</th>\n      <td>2611606</td>\n      <td>Recife</td>\n      <td>1996</td>\n      <td>53.044289</td>\n    </tr>\n    <tr>\n      <th>7085</th>\n      <td>2611606</td>\n      <td>Recife</td>\n      <td>1997</td>\n      <td>73.565852</td>\n    </tr>\n    <tr>\n      <th>12578</th>\n      <td>2611606</td>\n      <td>Recife</td>\n      <td>1998</td>\n      <td>81.504120</td>\n    </tr>\n    <tr>\n      <th>18005</th>\n      <td>2611606</td>\n      <td>Recife</td>\n      <td>1999</td>\n      <td>65.670745</td>\n    </tr>\n    <tr>\n      <th>23556</th>\n      <td>2611606</td>\n      <td>Recife</td>\n      <td>2000</td>\n      <td>69.082613</td>\n    </tr>\n  </tbody>\n</table>\n</div>"
     },
     "metadata": {},
     "execution_count": 7
    }
   ],
   "source": [
    "dfpib1[dfpib1['Código do Município']==2611606]\n",
    "dfhomi[dfhomi['cod']==2611606].head()"
   ]
  },
  {
   "source": [
    "## Now dealing with the many population datasets"
   ],
   "cell_type": "markdown",
   "metadata": {}
  },
  {
   "cell_type": "code",
   "execution_count": 8,
   "metadata": {},
   "outputs": [],
   "source": [
    "# as almost all of the following datasets require some minor tweaks in order to be correctly read, we will be reading one by one\n",
    "\n",
    "#so, the codes are not strings, they are numbers, also without the zeroes, so we will need to fix this\n",
    "# but first lets read all the datasets and make all their columns name the same\n",
    "\n",
    "poplst = ['POP2016.xlsx','POP2015.xls','POP2014.xlsx', 'POP2013.xls', 'POP2012.xls','POP2011.xls','POP2009.xls',\n",
    "          'POP2008.xls','POP2006.xls','POP2005.xls','POP2004.xls','POP2003.xls','POP2002.xls']\n",
    "xls = pd.ExcelFile('datasets/pop/POP2016.xlsx')\n",
    "df2016 = pd.read_excel(xls, 'Municípios', header =2)\n",
    "df2016 = df2016[:5570]\n",
    "df2016['período'] = 2016\n",
    "xls = pd.ExcelFile('datasets/pop/POP2015.xls')\n",
    "df2015 = pd.read_excel(xls, 'Municípios', header =2)\n",
    "df2015 = df2015[:5570]\n",
    "df2015['período'] = 2015\n",
    "df2016.columns = df2015.columns\n",
    "xls = pd.ExcelFile('datasets/pop/POP2014.xls')\n",
    "df2014 = pd.read_excel(xls, 'Municípios', header =2)\n",
    "df2014 = df2014[:5570]\n",
    "df2014['período'] =  2014\n",
    "df2014.columns = df2015.columns\n",
    "xls = pd.ExcelFile('datasets/pop/POP2013.xls')\n",
    "df2013 = pd.read_excel(xls, 'Municípios', header =1)\n",
    "df2013 = df2013[:5568]\n",
    "df2013['período'] =  2013\n",
    "df2013.columns = df2015.columns\n",
    "xls = pd.ExcelFile('datasets/pop/POP2012.xls')\n",
    "df2012 = pd.read_excel(xls, 'TAB_DOU_Municípios (internet)', header =2)\n",
    "df2012 = df2012[:5565]\n",
    "df2012['período'] =  2012\n",
    "df2012.columns = df2015.columns\n",
    "xls = pd.ExcelFile('datasets/pop/POP2011.xls')\n",
    "df2011 = pd.read_excel(xls, 'MUNICÍPIOS', header =2)\n",
    "df2011 = df2011[0:5565]\n",
    "df2011['período'] =  2011\n",
    "df2011.columns = df2015.columns\n",
    "xls = pd.ExcelFile('datasets/pop/POP2009.xls')\n",
    "df2009 = pd.read_excel(xls, 'MUNICÍPIOS', header =4)\n",
    "df2009 = df2009[0:5565]\n",
    "df2009['período'] =  2009\n",
    "df2009.columns = df2015.columns\n",
    "\n",
    "xls = pd.ExcelFile('datasets/pop/POP2008.xls')\n",
    "df2008 = pd.read_excel(xls, 'POP08DOU', header =4)\n",
    "df2008 = df2008[0:5565]\n",
    "df2008['período'] =  2008\n",
    "df2008.columns = df2015.columns\n",
    "xls = pd.ExcelFile('datasets/pop/POP2006.xls')\n",
    "df2006 = pd.read_excel(xls, 'P5564TCU', header =4)\n",
    "df2006 = df2006[0:5565]\n",
    "df2006['período'] =  2006\n",
    "df2006.columns = df2015.columns\n",
    "xls = pd.ExcelFile('datasets/pop/POP2005.xls')\n",
    "df2005 = pd.read_excel(xls, 'POP05DOU', header =4)\n",
    "df2005 = df2005[0:5564]\n",
    "df2005['período'] =  2005\n",
    "df2005.columns = df2015.columns\n",
    "# xls = pd.ExcelFile()\n",
    "df2004 = pd.read_excel('datasets/pop/POP2004.xls', header =4)\n",
    "df2004 = df2004[0:5564]\n",
    "df2004['período'] =  2004\n",
    "df2004.columns = df2015.columns\n",
    "\n",
    "df2003 = pd.read_excel('datasets/pop/POP2003.xls', header =4)\n",
    "df2003 = df2003[0:5564]\n",
    "df2003['período'] =  2003\n",
    "df2003.columns = df2015.columns\n",
    "\n",
    "df2002 = pd.read_excel('datasets/pop/POP2002.xls', header =5)\n",
    "df2002 = df2002[0:5560]\n",
    "df2002['período'] =  2002\n",
    "df2002.columns = df2015.columns\n",
    "#names=['SIGLA', 'CODIGOESTADO', 'CODIGO MUN', 'NOME', 'POP']\n",
    "\n",
    "dfpop = pd.concat([df2016, df2015,df2014,df2013,df2012,df2011,df2009,df2008,df2006,df2005,df2004,df2003,df2002])\n",
    "#df2 = pd.read_excel(xls, 'Sheet2')"
   ]
  },
  {
   "cell_type": "code",
   "execution_count": 9,
   "metadata": {},
   "outputs": [
    {
     "output_type": "execute_result",
     "data": {
      "text/plain": "      UF COD. UF  COD. MUNIC      NOME DO MUNICÍPIO POPULAÇÃO ESTIMADA  \\\n0     RO      11          15  Alta Floresta D&#39;Oeste              25506   \n1     RO      11          23              Ariquemes             105896   \n2     RO      11          31                 Cabixi               6289   \n3     RO      11          49                 Cacoal              87877   \n4     RO      11          56             Cerejeiras              17959   \n...   ..     ...         ...                    ...                ...   \n5555  GO      52        2200             Vianópolis              11770   \n5556  GO      52        2205         Vicentinópolis               6179   \n5557  GO      52        2220               Vila Boa               3381   \n5558  GO      52        2230          Vila Propício               4637   \n5559  DF      53          10               Brasília            2145839   \n\n      período   test      cod  \n0        2016  False  1100015  \n1        2016  False  1100023  \n2        2016  False  1100031  \n3        2016  False  1100049  \n4        2016  False  1100056  \n...       ...    ...      ...  \n5555     2002  False  5202200  \n5556     2002  False  5202205  \n5557     2002  False  5202220  \n5558     2002  False  5202230  \n5559     2002  False  5300010  \n\n[72350 rows x 8 columns]",
      "text/html": "<div>\n<style scoped>\n    .dataframe tbody tr th:only-of-type {\n        vertical-align: middle;\n    }\n\n    .dataframe tbody tr th {\n        vertical-align: top;\n    }\n\n    .dataframe thead th {\n        text-align: right;\n    }\n</style>\n<table border=\"1\" class=\"dataframe\">\n  <thead>\n    <tr style=\"text-align: right;\">\n      <th></th>\n      <th>UF</th>\n      <th>COD. UF</th>\n      <th>COD. MUNIC</th>\n      <th>NOME DO MUNICÍPIO</th>\n      <th>POPULAÇÃO ESTIMADA</th>\n      <th>período</th>\n      <th>test</th>\n      <th>cod</th>\n    </tr>\n  </thead>\n  <tbody>\n    <tr>\n      <th>0</th>\n      <td>RO</td>\n      <td>11</td>\n      <td>15</td>\n      <td>Alta Floresta D'Oeste</td>\n      <td>25506</td>\n      <td>2016</td>\n      <td>False</td>\n      <td>1100015</td>\n    </tr>\n    <tr>\n      <th>1</th>\n      <td>RO</td>\n      <td>11</td>\n      <td>23</td>\n      <td>Ariquemes</td>\n      <td>105896</td>\n      <td>2016</td>\n      <td>False</td>\n      <td>1100023</td>\n    </tr>\n    <tr>\n      <th>2</th>\n      <td>RO</td>\n      <td>11</td>\n      <td>31</td>\n      <td>Cabixi</td>\n      <td>6289</td>\n      <td>2016</td>\n      <td>False</td>\n      <td>1100031</td>\n    </tr>\n    <tr>\n      <th>3</th>\n      <td>RO</td>\n      <td>11</td>\n      <td>49</td>\n      <td>Cacoal</td>\n      <td>87877</td>\n      <td>2016</td>\n      <td>False</td>\n      <td>1100049</td>\n    </tr>\n    <tr>\n      <th>4</th>\n      <td>RO</td>\n      <td>11</td>\n      <td>56</td>\n      <td>Cerejeiras</td>\n      <td>17959</td>\n      <td>2016</td>\n      <td>False</td>\n      <td>1100056</td>\n    </tr>\n    <tr>\n      <th>...</th>\n      <td>...</td>\n      <td>...</td>\n      <td>...</td>\n      <td>...</td>\n      <td>...</td>\n      <td>...</td>\n      <td>...</td>\n      <td>...</td>\n    </tr>\n    <tr>\n      <th>5555</th>\n      <td>GO</td>\n      <td>52</td>\n      <td>2200</td>\n      <td>Vianópolis</td>\n      <td>11770</td>\n      <td>2002</td>\n      <td>False</td>\n      <td>5202200</td>\n    </tr>\n    <tr>\n      <th>5556</th>\n      <td>GO</td>\n      <td>52</td>\n      <td>2205</td>\n      <td>Vicentinópolis</td>\n      <td>6179</td>\n      <td>2002</td>\n      <td>False</td>\n      <td>5202205</td>\n    </tr>\n    <tr>\n      <th>5557</th>\n      <td>GO</td>\n      <td>52</td>\n      <td>2220</td>\n      <td>Vila Boa</td>\n      <td>3381</td>\n      <td>2002</td>\n      <td>False</td>\n      <td>5202220</td>\n    </tr>\n    <tr>\n      <th>5558</th>\n      <td>GO</td>\n      <td>52</td>\n      <td>2230</td>\n      <td>Vila Propício</td>\n      <td>4637</td>\n      <td>2002</td>\n      <td>False</td>\n      <td>5202230</td>\n    </tr>\n    <tr>\n      <th>5559</th>\n      <td>DF</td>\n      <td>53</td>\n      <td>10</td>\n      <td>Brasília</td>\n      <td>2145839</td>\n      <td>2002</td>\n      <td>False</td>\n      <td>5300010</td>\n    </tr>\n  </tbody>\n</table>\n<p>72350 rows × 8 columns</p>\n</div>"
     },
     "metadata": {},
     "execution_count": 9
    }
   ],
   "source": [
    "dfpop['test'] = dfpop['COD. MUNIC'].isnull()\n",
    "dfpop = dfpop.dropna()\n",
    "dfpop[dfpop['test']==True]\n",
    "dfpop['COD. MUNIC'] = dfpop['COD. MUNIC'].astype(int)\n",
    "dfpop['cod'] = dfpop['COD. UF']*100000 + dfpop['COD. MUNIC']\n",
    "dfpop['cod'] = dfpop['cod'].astype(int)\n",
    "dfpop"
   ]
  },
  {
   "source": [
    "## Some cities have multiples city codes, so we needed to fix it, this is the best solution that I was able to find:"
   ],
   "cell_type": "markdown",
   "metadata": {
    "tags": []
   }
  },
  {
   "cell_type": "code",
   "execution_count": null,
   "metadata": {},
   "outputs": [],
   "source": [
    "def fix_cod(df1):\n",
    "    df1['cod'] = df1['cod'].unique().max()\n",
    "    return df1\n",
    "\n",
    "grouped = dfpop.groupby(['NOME DO MUNICÍPIO','COD. UF'])\n",
    "dataframes = [group for _, group in grouped]\n",
    "aux = list(map(fix_cod,dataframes))\n",
    "aux = pd.concat(aux)\n"
   ]
  },
  {
   "source": [
    "## The following two cells were previous attempts at dealing with this problem, no not uncomment them"
   ],
   "cell_type": "markdown",
   "metadata": {}
  },
  {
   "cell_type": "code",
   "execution_count": 17,
   "metadata": {
    "tags": []
   },
   "outputs": [],
   "source": [
    "# i=0\n",
    "# for group, df1 in dfpop.groupby(['NOME DO MUNICÍPIO','COD. UF']):\n",
    "#     # print(group)\n",
    "#     if(i==0):\n",
    "#         #a primeiraentrada, precisa corrigir mesmo assim\n",
    "#         # print(group)\n",
    "#         df1['cod'] = df1['cod'].unique().max()\n",
    "#         aux = df1\n",
    "#         i = 1\n",
    "#     else:\n",
    "#         df1['cod'] = df1['cod'].unique().max()\n",
    "#         aux = pd.concat([aux,df1])"
   ]
  },
  {
   "cell_type": "code",
   "execution_count": 18,
   "metadata": {},
   "outputs": [],
   "source": [
    "# grouped = dfpop.groupby(['NOME DO MUNICÍPIO','COD. UF'])\n",
    "# mx = grouped['cod'].unique().map(max)\n",
    "# mn = grouped['cod'].unique().map(max)\n",
    "# mx = mx.values\n",
    "# mn = mn.values\n",
    "# dfpop = dfpop.replace(mn,mx)"
   ]
  },
  {
   "cell_type": "code",
   "execution_count": 43,
   "metadata": {
    "tags": []
   },
   "outputs": [
    {
     "output_type": "execute_result",
     "data": {
      "text/plain": "      UF COD. UF  COD. MUNIC NOME DO MUNICÍPIO POPULAÇÃO ESTIMADA  período  \\\n4634  RS      43        1552             Áurea               3725     2016   \n4635  RS      43        1552             Áurea               3732     2015   \n4635  RS      43        1552             Áurea               3740     2014   \n4635  RS      43        1552             Áurea               3748     2013   \n4631  RS      43        1552             Áurea               3632     2012   \n4631  RS      43        1552             Áurea               3648     2011   \n4631  RS      43        1552             Áurea               3789     2009   \n4631  RS      43        1552             Áurea               3802     2008   \n4630  RS      43         155             Áurea               3723     2006   \n4630  RS      43         155             Áurea               3748     2005   \n4630  RS      43         155             Áurea               3774     2004   \n4629  RS      43         155             Áurea               3820     2003   \n4629  RS      43         155             Áurea               3842     2002   \n\n       test      cod  \n4634  False  4301552  \n4635  False  4301552  \n4635  False  4301552  \n4635  False  4301552  \n4631  False  4301552  \n4631  False  4301552  \n4631  False  4301552  \n4631  False  4301552  \n4630  False  4301552  \n4630  False  4301552  \n4630  False  4301552  \n4629  False  4301552  \n4629  False  4301552  ",
      "text/html": "<div>\n<style scoped>\n    .dataframe tbody tr th:only-of-type {\n        vertical-align: middle;\n    }\n\n    .dataframe tbody tr th {\n        vertical-align: top;\n    }\n\n    .dataframe thead th {\n        text-align: right;\n    }\n</style>\n<table border=\"1\" class=\"dataframe\">\n  <thead>\n    <tr style=\"text-align: right;\">\n      <th></th>\n      <th>UF</th>\n      <th>COD. UF</th>\n      <th>COD. MUNIC</th>\n      <th>NOME DO MUNICÍPIO</th>\n      <th>POPULAÇÃO ESTIMADA</th>\n      <th>período</th>\n      <th>test</th>\n      <th>cod</th>\n    </tr>\n  </thead>\n  <tbody>\n    <tr>\n      <th>4634</th>\n      <td>RS</td>\n      <td>43</td>\n      <td>1552</td>\n      <td>Áurea</td>\n      <td>3725</td>\n      <td>2016</td>\n      <td>False</td>\n      <td>4301552</td>\n    </tr>\n    <tr>\n      <th>4635</th>\n      <td>RS</td>\n      <td>43</td>\n      <td>1552</td>\n      <td>Áurea</td>\n      <td>3732</td>\n      <td>2015</td>\n      <td>False</td>\n      <td>4301552</td>\n    </tr>\n    <tr>\n      <th>4635</th>\n      <td>RS</td>\n      <td>43</td>\n      <td>1552</td>\n      <td>Áurea</td>\n      <td>3740</td>\n      <td>2014</td>\n      <td>False</td>\n      <td>4301552</td>\n    </tr>\n    <tr>\n      <th>4635</th>\n      <td>RS</td>\n      <td>43</td>\n      <td>1552</td>\n      <td>Áurea</td>\n      <td>3748</td>\n      <td>2013</td>\n      <td>False</td>\n      <td>4301552</td>\n    </tr>\n    <tr>\n      <th>4631</th>\n      <td>RS</td>\n      <td>43</td>\n      <td>1552</td>\n      <td>Áurea</td>\n      <td>3632</td>\n      <td>2012</td>\n      <td>False</td>\n      <td>4301552</td>\n    </tr>\n    <tr>\n      <th>4631</th>\n      <td>RS</td>\n      <td>43</td>\n      <td>1552</td>\n      <td>Áurea</td>\n      <td>3648</td>\n      <td>2011</td>\n      <td>False</td>\n      <td>4301552</td>\n    </tr>\n    <tr>\n      <th>4631</th>\n      <td>RS</td>\n      <td>43</td>\n      <td>1552</td>\n      <td>Áurea</td>\n      <td>3789</td>\n      <td>2009</td>\n      <td>False</td>\n      <td>4301552</td>\n    </tr>\n    <tr>\n      <th>4631</th>\n      <td>RS</td>\n      <td>43</td>\n      <td>1552</td>\n      <td>Áurea</td>\n      <td>3802</td>\n      <td>2008</td>\n      <td>False</td>\n      <td>4301552</td>\n    </tr>\n    <tr>\n      <th>4630</th>\n      <td>RS</td>\n      <td>43</td>\n      <td>155</td>\n      <td>Áurea</td>\n      <td>3723</td>\n      <td>2006</td>\n      <td>False</td>\n      <td>4301552</td>\n    </tr>\n    <tr>\n      <th>4630</th>\n      <td>RS</td>\n      <td>43</td>\n      <td>155</td>\n      <td>Áurea</td>\n      <td>3748</td>\n      <td>2005</td>\n      <td>False</td>\n      <td>4301552</td>\n    </tr>\n    <tr>\n      <th>4630</th>\n      <td>RS</td>\n      <td>43</td>\n      <td>155</td>\n      <td>Áurea</td>\n      <td>3774</td>\n      <td>2004</td>\n      <td>False</td>\n      <td>4301552</td>\n    </tr>\n    <tr>\n      <th>4629</th>\n      <td>RS</td>\n      <td>43</td>\n      <td>155</td>\n      <td>Áurea</td>\n      <td>3820</td>\n      <td>2003</td>\n      <td>False</td>\n      <td>4301552</td>\n    </tr>\n    <tr>\n      <th>4629</th>\n      <td>RS</td>\n      <td>43</td>\n      <td>155</td>\n      <td>Áurea</td>\n      <td>3842</td>\n      <td>2002</td>\n      <td>False</td>\n      <td>4301552</td>\n    </tr>\n  </tbody>\n</table>\n</div>"
     },
     "metadata": {},
     "execution_count": 43
    }
   ],
   "source": [
    "#testing if everything is fine\n",
    "aux[aux['NOME DO MUNICÍPIO']=='Áurea']"
   ]
  },
  {
   "source": [
    "## And now, the complete Dataset with murder rates, population and GDP for every brazilian city in the period between 2002 and 2016:"
   ],
   "cell_type": "markdown",
   "metadata": {}
  },
  {
   "cell_type": "code",
   "execution_count": 45,
   "metadata": {},
   "outputs": [],
   "source": [
    "df = pd.merge(df,aux[['período','cod','POPULAÇÃO ESTIMADA']],how='left', on=['período', 'cod'])\n",
    "# df1['POPULAÇÃO ESTIMADA'] =df1['POPULAÇÃO ESTIMADA'].astype(int) "
   ]
  },
  {
   "source": [
    "## Lets check if there are some missing values in the population"
   ],
   "cell_type": "markdown",
   "metadata": {}
  },
  {
   "cell_type": "code",
   "execution_count": 48,
   "metadata": {},
   "outputs": [
    {
     "output_type": "execute_result",
     "data": {
      "text/plain": "      período  Código da Grande Região Nome da Grande Região  \\\n296      2002                        1                 Norte   \n889      2002                        2              Nordeste   \n1208     2002                        2              Nordeste   \n1865     2002                        2              Nordeste   \n2602     2002                        3               Sudeste   \n\n      Código da Unidade da Federação Sigla da Unidade da Federação  \\\n296                               16                            AP   \n889                               23                            CE   \n1208                              24                            RN   \n1865                              29                            BA   \n2602                              31                            MG   \n\n     Nome da Unidade da Federação      cod        Nome do Município  \\\n296                         Amapá  1600154  Pedra Branca do Amapari   \n889                         Ceará  2300150                  Acarape   \n1208          Rio Grande do Norte  2412559    São Miguel do Gostoso   \n1865                        Bahia  2903300              Barro Preto   \n2602                 Minas Gerais  3131802               Itabirinha   \n\n     Região Metropolitana  Código da Mesorregião  ...  \\\n296                   NaN                   1602  ...   \n889                   NaN                   2302  ...   \n1208                  NaN                   2404  ...   \n1865                  NaN                   2907  ...   \n2602                  NaN                   3108  ...   \n\n     Valor adicionado bruto dos Serviços,\\na preços correntes \\n- exceto Administração, defesa, educação e saúde públicas e seguridade social\\n(R$ 1.000)  \\\n296                                            2853.678                                                                                                     \n889                                            6220.917                                                                                                     \n1208                                           2877.499                                                                                                     \n1865                                           2701.940                                                                                                     \n2602                                           6409.129                                                                                                     \n\n      Valor adicionado bruto da Administração, defesa, educação e saúde públicas e seguridade social, \\na preços correntes\\n(R$ 1.000)  \\\n296                                           13260.075                                                                                  \n889                                           11431.853                                                                                  \n1208                                           9984.044                                                                                  \n1865                                           6810.342                                                                                  \n2602                                           8632.057                                                                                  \n\n     Valor adicionado bruto total, \\na preços correntes\\n(R$ 1.000)  \\\n296                                           19328.621               \n889                                           29104.954               \n1208                                          15515.321               \n1865                                          12178.508               \n2602                                          19122.393               \n\n      Impostos, líquidos de subsídios, sobre produtos, \\na preços correntes\\n(R$ 1.000)  \\\n296                                            1557.331                                   \n889                                            2347.233                                   \n1208                                            554.848                                   \n1865                                            491.470                                   \n2602                                           1066.829                                   \n\n     Produto Interno Bruto, \\na preços correntes\\n(R$ 1.000)  \\\n296                                           20885.952        \n889                                           31452.187        \n1208                                          16070.170        \n1865                                          12669.979        \n2602                                          20189.222        \n\n     Produto Interno Bruto per capita, \\na preços correntes\\n(R$ 1,00)  \\\n296                                             4405.39                  \n889                                             2293.60                  \n1208                                            1987.90                  \n1865                                            1576.06                  \n2602                                            2082.65                  \n\n                         nome homicidios POPULAÇÃO ESTIMADA  test  \n296   Pedra Branca do Amapari   0.000000                NaN  True  \n889                   Acarape  44.434570                NaN  True  \n1208    São Miguel do Gostoso   0.000000                NaN  True  \n1865              Barro Preto  12.223445                NaN  True  \n2602               Itabirinha  30.848329                NaN  True  \n\n[5 rows x 44 columns]",
      "text/html": "<div>\n<style scoped>\n    .dataframe tbody tr th:only-of-type {\n        vertical-align: middle;\n    }\n\n    .dataframe tbody tr th {\n        vertical-align: top;\n    }\n\n    .dataframe thead th {\n        text-align: right;\n    }\n</style>\n<table border=\"1\" class=\"dataframe\">\n  <thead>\n    <tr style=\"text-align: right;\">\n      <th></th>\n      <th>período</th>\n      <th>Código da Grande Região</th>\n      <th>Nome da Grande Região</th>\n      <th>Código da Unidade da Federação</th>\n      <th>Sigla da Unidade da Federação</th>\n      <th>Nome da Unidade da Federação</th>\n      <th>cod</th>\n      <th>Nome do Município</th>\n      <th>Região Metropolitana</th>\n      <th>Código da Mesorregião</th>\n      <th>...</th>\n      <th>Valor adicionado bruto dos Serviços,\\na preços correntes \\n- exceto Administração, defesa, educação e saúde públicas e seguridade social\\n(R$ 1.000)</th>\n      <th>Valor adicionado bruto da Administração, defesa, educação e saúde públicas e seguridade social, \\na preços correntes\\n(R$ 1.000)</th>\n      <th>Valor adicionado bruto total, \\na preços correntes\\n(R$ 1.000)</th>\n      <th>Impostos, líquidos de subsídios, sobre produtos, \\na preços correntes\\n(R$ 1.000)</th>\n      <th>Produto Interno Bruto, \\na preços correntes\\n(R$ 1.000)</th>\n      <th>Produto Interno Bruto per capita, \\na preços correntes\\n(R$ 1,00)</th>\n      <th>nome</th>\n      <th>homicidios</th>\n      <th>POPULAÇÃO ESTIMADA</th>\n      <th>test</th>\n    </tr>\n  </thead>\n  <tbody>\n    <tr>\n      <th>296</th>\n      <td>2002</td>\n      <td>1</td>\n      <td>Norte</td>\n      <td>16</td>\n      <td>AP</td>\n      <td>Amapá</td>\n      <td>1600154</td>\n      <td>Pedra Branca do Amapari</td>\n      <td>NaN</td>\n      <td>1602</td>\n      <td>...</td>\n      <td>2853.678</td>\n      <td>13260.075</td>\n      <td>19328.621</td>\n      <td>1557.331</td>\n      <td>20885.952</td>\n      <td>4405.39</td>\n      <td>Pedra Branca do Amapari</td>\n      <td>0.000000</td>\n      <td>NaN</td>\n      <td>True</td>\n    </tr>\n    <tr>\n      <th>889</th>\n      <td>2002</td>\n      <td>2</td>\n      <td>Nordeste</td>\n      <td>23</td>\n      <td>CE</td>\n      <td>Ceará</td>\n      <td>2300150</td>\n      <td>Acarape</td>\n      <td>NaN</td>\n      <td>2302</td>\n      <td>...</td>\n      <td>6220.917</td>\n      <td>11431.853</td>\n      <td>29104.954</td>\n      <td>2347.233</td>\n      <td>31452.187</td>\n      <td>2293.60</td>\n      <td>Acarape</td>\n      <td>44.434570</td>\n      <td>NaN</td>\n      <td>True</td>\n    </tr>\n    <tr>\n      <th>1208</th>\n      <td>2002</td>\n      <td>2</td>\n      <td>Nordeste</td>\n      <td>24</td>\n      <td>RN</td>\n      <td>Rio Grande do Norte</td>\n      <td>2412559</td>\n      <td>São Miguel do Gostoso</td>\n      <td>NaN</td>\n      <td>2404</td>\n      <td>...</td>\n      <td>2877.499</td>\n      <td>9984.044</td>\n      <td>15515.321</td>\n      <td>554.848</td>\n      <td>16070.170</td>\n      <td>1987.90</td>\n      <td>São Miguel do Gostoso</td>\n      <td>0.000000</td>\n      <td>NaN</td>\n      <td>True</td>\n    </tr>\n    <tr>\n      <th>1865</th>\n      <td>2002</td>\n      <td>2</td>\n      <td>Nordeste</td>\n      <td>29</td>\n      <td>BA</td>\n      <td>Bahia</td>\n      <td>2903300</td>\n      <td>Barro Preto</td>\n      <td>NaN</td>\n      <td>2907</td>\n      <td>...</td>\n      <td>2701.940</td>\n      <td>6810.342</td>\n      <td>12178.508</td>\n      <td>491.470</td>\n      <td>12669.979</td>\n      <td>1576.06</td>\n      <td>Barro Preto</td>\n      <td>12.223445</td>\n      <td>NaN</td>\n      <td>True</td>\n    </tr>\n    <tr>\n      <th>2602</th>\n      <td>2002</td>\n      <td>3</td>\n      <td>Sudeste</td>\n      <td>31</td>\n      <td>MG</td>\n      <td>Minas Gerais</td>\n      <td>3131802</td>\n      <td>Itabirinha</td>\n      <td>NaN</td>\n      <td>3108</td>\n      <td>...</td>\n      <td>6409.129</td>\n      <td>8632.057</td>\n      <td>19122.393</td>\n      <td>1066.829</td>\n      <td>20189.222</td>\n      <td>2082.65</td>\n      <td>Itabirinha</td>\n      <td>30.848329</td>\n      <td>NaN</td>\n      <td>True</td>\n    </tr>\n  </tbody>\n</table>\n<p>5 rows × 44 columns</p>\n</div>"
     },
     "metadata": {},
     "execution_count": 48
    }
   ],
   "source": [
    "df['test'] =  df['POPULAÇÃO ESTIMADA'].isnull()\n",
    "df[df['test']==True].head()"
   ]
  },
  {
   "source": [
    "## Well, we need to fix this, lets try with interpolation\n",
    "(there is room for improvement)"
   ],
   "cell_type": "markdown",
   "metadata": {}
  },
  {
   "cell_type": "code",
   "execution_count": 236,
   "metadata": {},
   "outputs": [],
   "source": [
    "dftest = df.sort_values(['cod', 'período']).ffill().bfill()\n",
    "dftest = dftest.reset_index(drop=True)\n",
    "\n",
    "# dftest[]\n",
    "# dftest = df.sort_values(['cod', 'período'])\n",
    "# dftest['POPULAÇÃO ESTIMADA'] = dftest['POPULAÇÃO ESTIMADA'].interpolate(method='linear', axis=0)#ffill().bfill()\n"
   ]
  },
  {
   "source": [
    "## Fixing some values in population"
   ],
   "cell_type": "markdown",
   "metadata": {}
  },
  {
   "cell_type": "code",
   "execution_count": 237,
   "metadata": {},
   "outputs": [
    {
     "output_type": "execute_result",
     "data": {
      "text/plain": "2635     17960\n3160     41487\n3161     11412\n3162     41487\n3163     41487\n3164     41487\n4346     59881\n4347     59881\n7143     61621\n9228     25192\n9903     32629\n31313    36789\n31958    25002\n33188    17855\nName: POPULAÇÃO ESTIMADA, dtype: int64"
     },
     "metadata": {},
     "execution_count": 237
    }
   ],
   "source": [
    "def auxfunc(a):\n",
    "    result = False\n",
    "    if(isinstance(a,int) == True):\n",
    "        result = True\n",
    "    elif(isinstance(a,float) == True):\n",
    "        result = True\n",
    "    return result\n",
    "def clean(a):\n",
    "    return a.replace('.','').replace('(*)', '').replace('(1)', '').replace('(2)', '').replace('*', '')\n",
    "    \n",
    "\n",
    "dftest['test1'] = dftest['POPULAÇÃO ESTIMADA'].map(auxfunc)\n",
    "replaced = dftest[dftest['test1']==False]['POPULAÇÃO ESTIMADA'].values\n",
    "replaceby = dftest[dftest['test1']==False]['POPULAÇÃO ESTIMADA'].map(clean).map(int)\n",
    "dftest['POPULAÇÃO ESTIMADA'].replace(replaced, replaceby, inplace=True)\n",
    "dftest['POPULAÇÃO ESTIMADA'] = dftest['POPULAÇÃO ESTIMADA'].astype(int)\n",
    "dftest[dftest['test1']==False]['POPULAÇÃO ESTIMADA']\n"
   ]
  },
  {
   "source": [
    "## Making some columns names shorter and removing others"
   ],
   "cell_type": "markdown",
   "metadata": {}
  },
  {
   "cell_type": "code",
   "execution_count": 238,
   "metadata": {},
   "outputs": [],
   "source": [
    "dftest = dftest.rename(columns={dftest.columns.values[-3]: \"pop\", dftest.columns.values[-7]: \"pib\", dftest.columns.values[1]: 'municipio', 'período':'periodo'})\n",
    "dftest = dftest[dftest.columns.values[:-2]]"
   ]
  },
  {
   "cell_type": "code",
   "execution_count": 241,
   "metadata": {},
   "outputs": [],
   "source": [
    "dftest = dftest.rename(columns={'Nome da Grande Região': 'regiao'})"
   ]
  },
  {
   "cell_type": "code",
   "execution_count": 243,
   "metadata": {},
   "outputs": [
    {
     "output_type": "execute_result",
     "data": {
      "text/plain": "   periodo  municipio regiao  Código da Unidade da Federação  \\\n0     2002          1  Norte                              11   \n1     2003          1  Norte                              11   \n2     2004          1  Norte                              11   \n3     2005          1  Norte                              11   \n4     2006          1  Norte                              11   \n\n  Sigla da Unidade da Federação Nome da Unidade da Federação      cod  \\\n0                            RO                     Rondônia  1100015   \n1                            RO                     Rondônia  1100015   \n2                            RO                     Rondônia  1100015   \n3                            RO                     Rondônia  1100015   \n4                            RO                     Rondônia  1100015   \n\n       Nome do Município Região Metropolitana  Código da Mesorregião  ...  \\\n0  Alta Floresta D&#39;Oeste       RM Porto Velho                   1102  ...   \n1  Alta Floresta D&#39;Oeste       RM Porto Velho                   1102  ...   \n2  Alta Floresta D&#39;Oeste       RM Porto Velho                   1102  ...   \n3  Alta Floresta D&#39;Oeste       RM Porto Velho                   1102  ...   \n4  Alta Floresta D&#39;Oeste       RM Porto Velho                   1102  ...   \n\n  Valor adicionado bruto da Indústria,\\na preços correntes\\n(R$ 1.000)  \\\n0                                           9376.871                     \n1                                          12700.905                     \n2                                          29963.081                     \n3                                          13391.368                     \n4                                          12885.117                     \n\n   Valor adicionado bruto dos Serviços,\\na preços correntes \\n- exceto Administração, defesa, educação e saúde públicas e seguridade social\\n(R$ 1.000)  \\\n0                                          24651.113                                                                                                      \n1                                          32975.861                                                                                                      \n2                                          39089.592                                                                                                      \n3                                          39585.165                                                                                                      \n4                                          36398.740                                                                                                      \n\n  Valor adicionado bruto da Administração, defesa, educação e saúde públicas e seguridade social, \\na preços correntes\\n(R$ 1.000)  \\\n0                                          42700.523                                                                                 \n1                                          45954.907                                                                                 \n2                                          51305.642                                                                                 \n3                                          59693.260                                                                                 \n4                                          66383.320                                                                                 \n\n   Valor adicionado bruto total, \\na preços correntes\\n(R$ 1.000)  \\\n0                                         103741.729                \n1                                         132710.768                \n2                                         161771.743                \n3                                         154193.581                \n4                                         155136.257                \n\n  Impostos, líquidos de subsídios, sobre produtos, \\na preços correntes\\n(R$ 1.000)  \\\n0                                           7549.266                                  \n1                                          10511.613                                  \n2                                          12219.047                                  \n3                                          12933.774                                  \n4                                          13668.803                                  \n\n          pib  \\\n0  111290.995   \n1  143222.381   \n2  173990.790   \n3  167127.355   \n4  168805.060   \n\n   Produto Interno Bruto per capita, \\na preços correntes\\n(R$ 1,00)  \\\n0                                            4047.83                   \n1                                            5138.58                   \n2                                            5999.48                   \n3                                            5837.69                   \n4                                            5819.86                   \n\n                    nome homicidios    pop  \n0  Alta Floresta D&#39;Oeste  36.714763  27237  \n1  Alta Floresta D&#39;Oeste  18.140260  27563  \n2  Alta Floresta D&#39;Oeste  17.240785  29001  \n3  Alta Floresta D&#39;Oeste  20.957770  28629  \n4  Alta Floresta D&#39;Oeste  20.686089  29005  \n\n[5 rows x 43 columns]",
      "text/html": "<div>\n<style scoped>\n    .dataframe tbody tr th:only-of-type {\n        vertical-align: middle;\n    }\n\n    .dataframe tbody tr th {\n        vertical-align: top;\n    }\n\n    .dataframe thead th {\n        text-align: right;\n    }\n</style>\n<table border=\"1\" class=\"dataframe\">\n  <thead>\n    <tr style=\"text-align: right;\">\n      <th></th>\n      <th>periodo</th>\n      <th>municipio</th>\n      <th>regiao</th>\n      <th>Código da Unidade da Federação</th>\n      <th>Sigla da Unidade da Federação</th>\n      <th>Nome da Unidade da Federação</th>\n      <th>cod</th>\n      <th>Nome do Município</th>\n      <th>Região Metropolitana</th>\n      <th>Código da Mesorregião</th>\n      <th>...</th>\n      <th>Valor adicionado bruto da Indústria,\\na preços correntes\\n(R$ 1.000)</th>\n      <th>Valor adicionado bruto dos Serviços,\\na preços correntes \\n- exceto Administração, defesa, educação e saúde públicas e seguridade social\\n(R$ 1.000)</th>\n      <th>Valor adicionado bruto da Administração, defesa, educação e saúde públicas e seguridade social, \\na preços correntes\\n(R$ 1.000)</th>\n      <th>Valor adicionado bruto total, \\na preços correntes\\n(R$ 1.000)</th>\n      <th>Impostos, líquidos de subsídios, sobre produtos, \\na preços correntes\\n(R$ 1.000)</th>\n      <th>pib</th>\n      <th>Produto Interno Bruto per capita, \\na preços correntes\\n(R$ 1,00)</th>\n      <th>nome</th>\n      <th>homicidios</th>\n      <th>pop</th>\n    </tr>\n  </thead>\n  <tbody>\n    <tr>\n      <th>0</th>\n      <td>2002</td>\n      <td>1</td>\n      <td>Norte</td>\n      <td>11</td>\n      <td>RO</td>\n      <td>Rondônia</td>\n      <td>1100015</td>\n      <td>Alta Floresta D'Oeste</td>\n      <td>RM Porto Velho</td>\n      <td>1102</td>\n      <td>...</td>\n      <td>9376.871</td>\n      <td>24651.113</td>\n      <td>42700.523</td>\n      <td>103741.729</td>\n      <td>7549.266</td>\n      <td>111290.995</td>\n      <td>4047.83</td>\n      <td>Alta Floresta D'Oeste</td>\n      <td>36.714763</td>\n      <td>27237</td>\n    </tr>\n    <tr>\n      <th>1</th>\n      <td>2003</td>\n      <td>1</td>\n      <td>Norte</td>\n      <td>11</td>\n      <td>RO</td>\n      <td>Rondônia</td>\n      <td>1100015</td>\n      <td>Alta Floresta D'Oeste</td>\n      <td>RM Porto Velho</td>\n      <td>1102</td>\n      <td>...</td>\n      <td>12700.905</td>\n      <td>32975.861</td>\n      <td>45954.907</td>\n      <td>132710.768</td>\n      <td>10511.613</td>\n      <td>143222.381</td>\n      <td>5138.58</td>\n      <td>Alta Floresta D'Oeste</td>\n      <td>18.140260</td>\n      <td>27563</td>\n    </tr>\n    <tr>\n      <th>2</th>\n      <td>2004</td>\n      <td>1</td>\n      <td>Norte</td>\n      <td>11</td>\n      <td>RO</td>\n      <td>Rondônia</td>\n      <td>1100015</td>\n      <td>Alta Floresta D'Oeste</td>\n      <td>RM Porto Velho</td>\n      <td>1102</td>\n      <td>...</td>\n      <td>29963.081</td>\n      <td>39089.592</td>\n      <td>51305.642</td>\n      <td>161771.743</td>\n      <td>12219.047</td>\n      <td>173990.790</td>\n      <td>5999.48</td>\n      <td>Alta Floresta D'Oeste</td>\n      <td>17.240785</td>\n      <td>29001</td>\n    </tr>\n    <tr>\n      <th>3</th>\n      <td>2005</td>\n      <td>1</td>\n      <td>Norte</td>\n      <td>11</td>\n      <td>RO</td>\n      <td>Rondônia</td>\n      <td>1100015</td>\n      <td>Alta Floresta D'Oeste</td>\n      <td>RM Porto Velho</td>\n      <td>1102</td>\n      <td>...</td>\n      <td>13391.368</td>\n      <td>39585.165</td>\n      <td>59693.260</td>\n      <td>154193.581</td>\n      <td>12933.774</td>\n      <td>167127.355</td>\n      <td>5837.69</td>\n      <td>Alta Floresta D'Oeste</td>\n      <td>20.957770</td>\n      <td>28629</td>\n    </tr>\n    <tr>\n      <th>4</th>\n      <td>2006</td>\n      <td>1</td>\n      <td>Norte</td>\n      <td>11</td>\n      <td>RO</td>\n      <td>Rondônia</td>\n      <td>1100015</td>\n      <td>Alta Floresta D'Oeste</td>\n      <td>RM Porto Velho</td>\n      <td>1102</td>\n      <td>...</td>\n      <td>12885.117</td>\n      <td>36398.740</td>\n      <td>66383.320</td>\n      <td>155136.257</td>\n      <td>13668.803</td>\n      <td>168805.060</td>\n      <td>5819.86</td>\n      <td>Alta Floresta D'Oeste</td>\n      <td>20.686089</td>\n      <td>29005</td>\n    </tr>\n  </tbody>\n</table>\n<p>5 rows × 43 columns</p>\n</div>"
     },
     "metadata": {},
     "execution_count": 243
    }
   ],
   "source": [
    "dftest.head()"
   ]
  },
  {
   "source": [
    "# Now it is time for some visualizations\n",
    "## Let's check if there was a change in population percentage and gdp percentage for every region"
   ],
   "cell_type": "markdown",
   "metadata": {}
  },
  {
   "source": [
    "Dúvidas para tirar:\n",
    "Como fazer a interpolação de uma maneira melhor?  \n",
    "Tem como usar um dataset como dicionário?"
   ],
   "cell_type": "markdown",
   "metadata": {}
  },
  {
   "cell_type": "code",
   "execution_count": 254,
   "metadata": {
    "tags": []
   },
   "outputs": [
    {
     "output_type": "execute_result",
     "data": {
      "text/plain": "          regiao  periodo         pop           pib\n0   Centro-oeste     2002  12101540.0  1.281626e+08\n1   Centro-oeste     2003  12317271.0  1.525577e+08\n2   Centro-oeste     2004  12760734.0  1.749413e+08\n3   Centro-oeste     2005  13020767.0  1.875801e+08\n4   Centro-oeste     2006  13269517.0  2.034049e+08\n..           ...      ...         ...           ...\n70           Sul     2012  27731644.0  7.650019e+08\n71           Sul     2013  28795762.0  8.802861e+08\n72           Sul     2014  29016114.0  9.484540e+08\n73           Sul     2015  29230180.0  1.008035e+09\n74           Sul     2016  29439773.0  1.067358e+09\n\n[75 rows x 4 columns]",
      "text/html": "<div>\n<style scoped>\n    .dataframe tbody tr th:only-of-type {\n        vertical-align: middle;\n    }\n\n    .dataframe tbody tr th {\n        vertical-align: top;\n    }\n\n    .dataframe thead th {\n        text-align: right;\n    }\n</style>\n<table border=\"1\" class=\"dataframe\">\n  <thead>\n    <tr style=\"text-align: right;\">\n      <th></th>\n      <th>regiao</th>\n      <th>periodo</th>\n      <th>pop</th>\n      <th>pib</th>\n    </tr>\n  </thead>\n  <tbody>\n    <tr>\n      <th>0</th>\n      <td>Centro-oeste</td>\n      <td>2002</td>\n      <td>12101540.0</td>\n      <td>1.281626e+08</td>\n    </tr>\n    <tr>\n      <th>1</th>\n      <td>Centro-oeste</td>\n      <td>2003</td>\n      <td>12317271.0</td>\n      <td>1.525577e+08</td>\n    </tr>\n    <tr>\n      <th>2</th>\n      <td>Centro-oeste</td>\n      <td>2004</td>\n      <td>12760734.0</td>\n      <td>1.749413e+08</td>\n    </tr>\n    <tr>\n      <th>3</th>\n      <td>Centro-oeste</td>\n      <td>2005</td>\n      <td>13020767.0</td>\n      <td>1.875801e+08</td>\n    </tr>\n    <tr>\n      <th>4</th>\n      <td>Centro-oeste</td>\n      <td>2006</td>\n      <td>13269517.0</td>\n      <td>2.034049e+08</td>\n    </tr>\n    <tr>\n      <th>...</th>\n      <td>...</td>\n      <td>...</td>\n      <td>...</td>\n      <td>...</td>\n    </tr>\n    <tr>\n      <th>70</th>\n      <td>Sul</td>\n      <td>2012</td>\n      <td>27731644.0</td>\n      <td>7.650019e+08</td>\n    </tr>\n    <tr>\n      <th>71</th>\n      <td>Sul</td>\n      <td>2013</td>\n      <td>28795762.0</td>\n      <td>8.802861e+08</td>\n    </tr>\n    <tr>\n      <th>72</th>\n      <td>Sul</td>\n      <td>2014</td>\n      <td>29016114.0</td>\n      <td>9.484540e+08</td>\n    </tr>\n    <tr>\n      <th>73</th>\n      <td>Sul</td>\n      <td>2015</td>\n      <td>29230180.0</td>\n      <td>1.008035e+09</td>\n    </tr>\n    <tr>\n      <th>74</th>\n      <td>Sul</td>\n      <td>2016</td>\n      <td>29439773.0</td>\n      <td>1.067358e+09</td>\n    </tr>\n  </tbody>\n</table>\n<p>75 rows × 4 columns</p>\n</div>"
     },
     "metadata": {},
     "execution_count": 254
    }
   ],
   "source": [
    "#we wanna show the population percentage and the gdp percentage over the years, has it changed?\n",
    "#first lets do it for the population, for every year we need to create a new column that states the pop % of the region in regards to the total\n",
    "\n",
    "def totalpop(df):\n",
    "    # df['total'] = aux.groupby('periodo').sum().loc[df['periodo']].values[0]\n",
    "    grouped\n",
    "    return df\n",
    "\n",
    "grouped = dftest.groupby(['regiao','periodo'])\n",
    "pop = grouped['pop'].sum()\n",
    "gdp = grouped['pib'].sum()\n",
    "\n",
    "#AUX SHOWS THE POPULATION AND GDP FOR EVERY REGION\n",
    "aux = pd.DataFrame([pop, gdp]).T.reset_index()\n",
    "aux\n",
    "# aux.groupby('periodo').sum()\n",
    "# dftest\n",
    "# aux = aux.apply(totalpop,axis=1)\n",
    "# aux['% pop'] = aux ['POPULAÇÃO ESTIMADA'] / aux['total']\n",
    "# aux[aux['período']==2002]\n",
    "# aux[aux['Nome da Grande Região']=='Nordeste']\n",
    "# aux.groupby('período').sum()"
   ]
  },
  {
   "cell_type": "code",
   "execution_count": 252,
   "metadata": {
    "tags": []
   },
   "outputs": [
    {
     "output_type": "error",
     "ename": "KeyError",
     "evalue": "&#39;Nome da Grande Região&#39;",
     "traceback": [
      "\u001b[0;31m---------------------------------------------------------------------------\u001b[0m",
      "\u001b[0;31mKeyError\u001b[0m                                  Traceback (most recent call last)",
      "\u001b[0;32m~/anaconda3/lib/python3.8/site-packages/pandas/core/indexes/base.py\u001b[0m in \u001b[0;36mget_loc\u001b[0;34m(self, key, method, tolerance)\u001b[0m\n\u001b[1;32m   2645\u001b[0m             \u001b[0;32mtry\u001b[0m\u001b[0;34m:\u001b[0m\u001b[0;34m\u001b[0m\u001b[0;34m\u001b[0m\u001b[0m\n\u001b[0;32m-&gt; 2646\u001b[0;31m                 \u001b[0;32mreturn\u001b[0m \u001b[0mself\u001b[0m\u001b[0;34m.\u001b[0m\u001b[0m_engine\u001b[0m\u001b[0;34m.\u001b[0m\u001b[0mget_loc\u001b[0m\u001b[0;34m(\u001b[0m\u001b[0mkey\u001b[0m\u001b[0;34m)\u001b[0m\u001b[0;34m\u001b[0m\u001b[0;34m\u001b[0m\u001b[0m\n\u001b[0m\u001b[1;32m   2647\u001b[0m             \u001b[0;32mexcept\u001b[0m \u001b[0mKeyError\u001b[0m\u001b[0;34m:\u001b[0m\u001b[0;34m\u001b[0m\u001b[0;34m\u001b[0m\u001b[0m\n",
      "\u001b[0;32mpandas/_libs/index.pyx\u001b[0m in \u001b[0;36mpandas._libs.index.IndexEngine.get_loc\u001b[0;34m()\u001b[0m\n",
      "\u001b[0;32mpandas/_libs/index.pyx\u001b[0m in \u001b[0;36mpandas._libs.index.IndexEngine.get_loc\u001b[0;34m()\u001b[0m\n",
      "\u001b[0;32mpandas/_libs/hashtable_class_helper.pxi\u001b[0m in \u001b[0;36mpandas._libs.hashtable.PyObjectHashTable.get_item\u001b[0;34m()\u001b[0m\n",
      "\u001b[0;32mpandas/_libs/hashtable_class_helper.pxi\u001b[0m in \u001b[0;36mpandas._libs.hashtable.PyObjectHashTable.get_item\u001b[0;34m()\u001b[0m\n",
      "\u001b[0;31mKeyError\u001b[0m: &#39;Nome da Grande Região&#39;",
      "\nDuring handling of the above exception, another exception occurred:\n",
      "\u001b[0;31mKeyError\u001b[0m                                  Traceback (most recent call last)",
      "\u001b[0;32m&lt;ipython-input-252-c6434188a014&gt;\u001b[0m in \u001b[0;36m&lt;module&gt;\u001b[0;34m\u001b[0m\n\u001b[0;32m----&gt; 1\u001b[0;31m \u001b[0;32mfor\u001b[0m \u001b[0mregion\u001b[0m \u001b[0;32min\u001b[0m \u001b[0maux\u001b[0m\u001b[0;34m[\u001b[0m\u001b[0;34m&#39;Nome da Grande Região&#39;\u001b[0m\u001b[0;34m]\u001b[0m\u001b[0;34m.\u001b[0m\u001b[0munique\u001b[0m\u001b[0;34m(\u001b[0m\u001b[0;34m)\u001b[0m\u001b[0;34m:\u001b[0m\u001b[0;34m\u001b[0m\u001b[0;34m\u001b[0m\u001b[0m\n\u001b[0m\u001b[1;32m      2\u001b[0m     \u001b[0mplt\u001b[0m\u001b[0;34m.\u001b[0m\u001b[0mplot\u001b[0m\u001b[0;34m(\u001b[0m\u001b[0maux\u001b[0m\u001b[0;34m[\u001b[0m\u001b[0;34m&#39;período&#39;\u001b[0m\u001b[0;34m]\u001b[0m\u001b[0;34m.\u001b[0m\u001b[0munique\u001b[0m\u001b[0;34m(\u001b[0m\u001b[0;34m)\u001b[0m\u001b[0;34m,\u001b[0m\u001b[0maux\u001b[0m\u001b[0;34m[\u001b[0m\u001b[0maux\u001b[0m\u001b[0;34m[\u001b[0m\u001b[0;34m&#39;Nome da Grande Região&#39;\u001b[0m\u001b[0;34m]\u001b[0m\u001b[0;34m==\u001b[0m\u001b[0mregion\u001b[0m\u001b[0;34m]\u001b[0m\u001b[0;34m[\u001b[0m\u001b[0;34m&#39;% pop&#39;\u001b[0m\u001b[0;34m]\u001b[0m\u001b[0;34m,\u001b[0m \u001b[0mmarker\u001b[0m\u001b[0;34m=\u001b[0m\u001b[0;34m&#39;o&#39;\u001b[0m\u001b[0;34m)\u001b[0m\u001b[0;34m\u001b[0m\u001b[0;34m\u001b[0m\u001b[0m\n\u001b[1;32m      3\u001b[0m     \u001b[0mplt\u001b[0m\u001b[0;34m.\u001b[0m\u001b[0mlegend\u001b[0m\u001b[0;34m(\u001b[0m\u001b[0;34m)\u001b[0m\u001b[0;34m\u001b[0m\u001b[0;34m\u001b[0m\u001b[0m\n\u001b[1;32m      4\u001b[0m     \u001b[0;31m# aux[region,]\u001b[0m\u001b[0;34m\u001b[0m\u001b[0;34m\u001b[0m\u001b[0;34m\u001b[0m\u001b[0m\n\u001b[1;32m      5\u001b[0m     \u001b[0;31m# print (region)\u001b[0m\u001b[0;34m\u001b[0m\u001b[0;34m\u001b[0m\u001b[0;34m\u001b[0m\u001b[0m\n",
      "\u001b[0;32m~/anaconda3/lib/python3.8/site-packages/pandas/core/frame.py\u001b[0m in \u001b[0;36m__getitem__\u001b[0;34m(self, key)\u001b[0m\n\u001b[1;32m   2798\u001b[0m             \u001b[0;32mif\u001b[0m \u001b[0mself\u001b[0m\u001b[0;34m.\u001b[0m\u001b[0mcolumns\u001b[0m\u001b[0;34m.\u001b[0m\u001b[0mnlevels\u001b[0m \u001b[0;34m&gt;\u001b[0m \u001b[0;36m1\u001b[0m\u001b[0;34m:\u001b[0m\u001b[0;34m\u001b[0m\u001b[0;34m\u001b[0m\u001b[0m\n\u001b[1;32m   2799\u001b[0m                 \u001b[0;32mreturn\u001b[0m \u001b[0mself\u001b[0m\u001b[0;34m.\u001b[0m\u001b[0m_getitem_multilevel\u001b[0m\u001b[0;34m(\u001b[0m\u001b[0mkey\u001b[0m\u001b[0;34m)\u001b[0m\u001b[0;34m\u001b[0m\u001b[0;34m\u001b[0m\u001b[0m\n\u001b[0;32m-&gt; 2800\u001b[0;31m             \u001b[0mindexer\u001b[0m \u001b[0;34m=\u001b[0m \u001b[0mself\u001b[0m\u001b[0;34m.\u001b[0m\u001b[0mcolumns\u001b[0m\u001b[0;34m.\u001b[0m\u001b[0mget_loc\u001b[0m\u001b[0;34m(\u001b[0m\u001b[0mkey\u001b[0m\u001b[0;34m)\u001b[0m\u001b[0;34m\u001b[0m\u001b[0;34m\u001b[0m\u001b[0m\n\u001b[0m\u001b[1;32m   2801\u001b[0m             \u001b[0;32mif\u001b[0m \u001b[0mis_integer\u001b[0m\u001b[0;34m(\u001b[0m\u001b[0mindexer\u001b[0m\u001b[0;34m)\u001b[0m\u001b[0;34m:\u001b[0m\u001b[0;34m\u001b[0m\u001b[0;34m\u001b[0m\u001b[0m\n\u001b[1;32m   2802\u001b[0m                 \u001b[0mindexer\u001b[0m \u001b[0;34m=\u001b[0m \u001b[0;34m[\u001b[0m\u001b[0mindexer\u001b[0m\u001b[0;34m]\u001b[0m\u001b[0;34m\u001b[0m\u001b[0;34m\u001b[0m\u001b[0m\n",
      "\u001b[0;32m~/anaconda3/lib/python3.8/site-packages/pandas/core/indexes/base.py\u001b[0m in \u001b[0;36mget_loc\u001b[0;34m(self, key, method, tolerance)\u001b[0m\n\u001b[1;32m   2646\u001b[0m                 \u001b[0;32mreturn\u001b[0m \u001b[0mself\u001b[0m\u001b[0;34m.\u001b[0m\u001b[0m_engine\u001b[0m\u001b[0;34m.\u001b[0m\u001b[0mget_loc\u001b[0m\u001b[0;34m(\u001b[0m\u001b[0mkey\u001b[0m\u001b[0;34m)\u001b[0m\u001b[0;34m\u001b[0m\u001b[0;34m\u001b[0m\u001b[0m\n\u001b[1;32m   2647\u001b[0m             \u001b[0;32mexcept\u001b[0m \u001b[0mKeyError\u001b[0m\u001b[0;34m:\u001b[0m\u001b[0;34m\u001b[0m\u001b[0;34m\u001b[0m\u001b[0m\n\u001b[0;32m-&gt; 2648\u001b[0;31m                 \u001b[0;32mreturn\u001b[0m \u001b[0mself\u001b[0m\u001b[0;34m.\u001b[0m\u001b[0m_engine\u001b[0m\u001b[0;34m.\u001b[0m\u001b[0mget_loc\u001b[0m\u001b[0;34m(\u001b[0m\u001b[0mself\u001b[0m\u001b[0;34m.\u001b[0m\u001b[0m_maybe_cast_indexer\u001b[0m\u001b[0;34m(\u001b[0m\u001b[0mkey\u001b[0m\u001b[0;34m)\u001b[0m\u001b[0;34m)\u001b[0m\u001b[0;34m\u001b[0m\u001b[0;34m\u001b[0m\u001b[0m\n\u001b[0m\u001b[1;32m   2649\u001b[0m         \u001b[0mindexer\u001b[0m \u001b[0;34m=\u001b[0m \u001b[0mself\u001b[0m\u001b[0;34m.\u001b[0m\u001b[0mget_indexer\u001b[0m\u001b[0;34m(\u001b[0m\u001b[0;34m[\u001b[0m\u001b[0mkey\u001b[0m\u001b[0;34m]\u001b[0m\u001b[0;34m,\u001b[0m \u001b[0mmethod\u001b[0m\u001b[0;34m=\u001b[0m\u001b[0mmethod\u001b[0m\u001b[0;34m,\u001b[0m \u001b[0mtolerance\u001b[0m\u001b[0;34m=\u001b[0m\u001b[0mtolerance\u001b[0m\u001b[0;34m)\u001b[0m\u001b[0;34m\u001b[0m\u001b[0;34m\u001b[0m\u001b[0m\n\u001b[1;32m   2650\u001b[0m         \u001b[0;32mif\u001b[0m \u001b[0mindexer\u001b[0m\u001b[0;34m.\u001b[0m\u001b[0mndim\u001b[0m \u001b[0;34m&gt;\u001b[0m \u001b[0;36m1\u001b[0m \u001b[0;32mor\u001b[0m \u001b[0mindexer\u001b[0m\u001b[0;34m.\u001b[0m\u001b[0msize\u001b[0m \u001b[0;34m&gt;\u001b[0m \u001b[0;36m1\u001b[0m\u001b[0;34m:\u001b[0m\u001b[0;34m\u001b[0m\u001b[0;34m\u001b[0m\u001b[0m\n",
      "\u001b[0;32mpandas/_libs/index.pyx\u001b[0m in \u001b[0;36mpandas._libs.index.IndexEngine.get_loc\u001b[0;34m()\u001b[0m\n",
      "\u001b[0;32mpandas/_libs/index.pyx\u001b[0m in \u001b[0;36mpandas._libs.index.IndexEngine.get_loc\u001b[0;34m()\u001b[0m\n",
      "\u001b[0;32mpandas/_libs/hashtable_class_helper.pxi\u001b[0m in \u001b[0;36mpandas._libs.hashtable.PyObjectHashTable.get_item\u001b[0;34m()\u001b[0m\n",
      "\u001b[0;32mpandas/_libs/hashtable_class_helper.pxi\u001b[0m in \u001b[0;36mpandas._libs.hashtable.PyObjectHashTable.get_item\u001b[0;34m()\u001b[0m\n",
      "\u001b[0;31mKeyError\u001b[0m: &#39;Nome da Grande Região&#39;"
     ]
    }
   ],
   "source": [
    "for region in aux['Nome da Grande Região'].unique():\n",
    "    plt.plot(aux['período'].unique(),aux[aux['Nome da Grande Região']==region]['% pop'], marker='o')\n",
    "    plt.legend()\n",
    "    # aux[region,]\n",
    "    # print (region)\n",
    "plt.show()"
   ]
  },
  {
   "cell_type": "code",
   "execution_count": 217,
   "metadata": {},
   "outputs": [
    {
     "output_type": "execute_result",
     "data": {
      "text/plain": "                       período  POPULAÇÃO ESTIMADA      total     % pop\nNome da Grande Região                                                  \nCentro-oeste              2016            15660988  206114067  0.075982\nNordeste                  2016            56915936  206114067  0.276138\nNorte                     2016            17740418  206114067  0.086071\nSudeste                   2016            86356952  206114067  0.418977\nSul                       2016            29439773  206114067  0.142832",
      "text/html": "<div>\n<style scoped>\n    .dataframe tbody tr th:only-of-type {\n        vertical-align: middle;\n    }\n\n    .dataframe tbody tr th {\n        vertical-align: top;\n    }\n\n    .dataframe thead th {\n        text-align: right;\n    }\n</style>\n<table border=\"1\" class=\"dataframe\">\n  <thead>\n    <tr style=\"text-align: right;\">\n      <th></th>\n      <th>período</th>\n      <th>POPULAÇÃO ESTIMADA</th>\n      <th>total</th>\n      <th>% pop</th>\n    </tr>\n    <tr>\n      <th>Nome da Grande Região</th>\n      <th></th>\n      <th></th>\n      <th></th>\n      <th></th>\n    </tr>\n  </thead>\n  <tbody>\n    <tr>\n      <th>Centro-oeste</th>\n      <td>2016</td>\n      <td>15660988</td>\n      <td>206114067</td>\n      <td>0.075982</td>\n    </tr>\n    <tr>\n      <th>Nordeste</th>\n      <td>2016</td>\n      <td>56915936</td>\n      <td>206114067</td>\n      <td>0.276138</td>\n    </tr>\n    <tr>\n      <th>Norte</th>\n      <td>2016</td>\n      <td>17740418</td>\n      <td>206114067</td>\n      <td>0.086071</td>\n    </tr>\n    <tr>\n      <th>Sudeste</th>\n      <td>2016</td>\n      <td>86356952</td>\n      <td>206114067</td>\n      <td>0.418977</td>\n    </tr>\n    <tr>\n      <th>Sul</th>\n      <td>2016</td>\n      <td>29439773</td>\n      <td>206114067</td>\n      <td>0.142832</td>\n    </tr>\n  </tbody>\n</table>\n</div>"
     },
     "metadata": {},
     "execution_count": 217
    }
   ],
   "source": [
    "aux[aux['período']==2016].set_index('Nome da Grande Região')"
   ]
  },
  {
   "cell_type": "code",
   "execution_count": null,
   "metadata": {},
   "outputs": [],
   "source": []
  }
 ],
 "metadata": {
  "kernelspec": {
   "display_name": "Python 3",
   "language": "python",
   "name": "python3"
  },
  "language_info": {
   "codemirror_mode": {
    "name": "ipython",
    "version": 3
   },
   "file_extension": ".py",
   "mimetype": "text/x-python",
   "name": "python",
   "nbconvert_exporter": "python",
   "pygments_lexer": "ipython3",
   "version": "3.8.3-final"
  }
 },
 "nbformat": 4,
 "nbformat_minor": 4
}