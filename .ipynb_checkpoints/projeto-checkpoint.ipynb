{
 "cells": [
  {
   "cell_type": "code",
   "execution_count": 2,
   "metadata": {},
   "outputs": [],
   "source": [
    "import pandas as pd\n",
    "import numpy as np\n",
    "import matplotlib.pyplot as plt"
   ]
  },
  {
   "cell_type": "code",
   "execution_count": 7,
   "metadata": {},
   "outputs": [],
   "source": [
    "dfpib1 = pd.read_excel(\"datasets/PIB dos Municípios - base de dados 2002-2009.xls\")\n",
    "dfpib2 = pd.read_excel('datasets/PIB dos Municípios - base de dados 2010-2017.xls')"
   ]
  },
  {
   "cell_type": "code",
   "execution_count": 10,
   "metadata": {},
   "outputs": [],
   "source": [
    "dfhomi = pd.read_csv('datasets/homicidios.csv', sep=';')"
   ]
  },
  {
   "cell_type": "code",
   "execution_count": 11,
   "metadata": {
    "scrolled": true
   },
   "outputs": [
    {
     "data": {
      "text/html": [
       "<div>\n",
       "<style scoped>\n",
       "    .dataframe tbody tr th:only-of-type {\n",
       "        vertical-align: middle;\n",
       "    }\n",
       "\n",
       "    .dataframe tbody tr th {\n",
       "        vertical-align: top;\n",
       "    }\n",
       "\n",
       "    .dataframe thead th {\n",
       "        text-align: right;\n",
       "    }\n",
       "</style>\n",
       "<table border=\"1\" class=\"dataframe\">\n",
       "  <thead>\n",
       "    <tr style=\"text-align: right;\">\n",
       "      <th></th>\n",
       "      <th>cod</th>\n",
       "      <th>nome</th>\n",
       "      <th>período</th>\n",
       "      <th>valor</th>\n",
       "    </tr>\n",
       "  </thead>\n",
       "  <tbody>\n",
       "    <tr>\n",
       "      <th>0</th>\n",
       "      <td>1500131</td>\n",
       "      <td>Abel Figueiredo</td>\n",
       "      <td>1996</td>\n",
       "      <td>0.000000</td>\n",
       "    </tr>\n",
       "    <tr>\n",
       "      <th>1</th>\n",
       "      <td>1500206</td>\n",
       "      <td>Acará</td>\n",
       "      <td>1996</td>\n",
       "      <td>0.000000</td>\n",
       "    </tr>\n",
       "    <tr>\n",
       "      <th>2</th>\n",
       "      <td>1500305</td>\n",
       "      <td>Afuá</td>\n",
       "      <td>1996</td>\n",
       "      <td>4.052849</td>\n",
       "    </tr>\n",
       "    <tr>\n",
       "      <th>3</th>\n",
       "      <td>1500347</td>\n",
       "      <td>Água Azul do Norte</td>\n",
       "      <td>1996</td>\n",
       "      <td>9.526531</td>\n",
       "    </tr>\n",
       "    <tr>\n",
       "      <th>4</th>\n",
       "      <td>1500404</td>\n",
       "      <td>Alenquer</td>\n",
       "      <td>1996</td>\n",
       "      <td>7.779226</td>\n",
       "    </tr>\n",
       "  </tbody>\n",
       "</table>\n",
       "</div>"
      ],
      "text/plain": [
       "       cod                nome  período     valor\n",
       "0  1500131     Abel Figueiredo     1996  0.000000\n",
       "1  1500206               Acará     1996  0.000000\n",
       "2  1500305                Afuá     1996  4.052849\n",
       "3  1500347  Água Azul do Norte     1996  9.526531\n",
       "4  1500404            Alenquer     1996  7.779226"
      ]
     },
     "execution_count": 11,
     "metadata": {},
     "output_type": "execute_result"
    }
   ],
   "source": [
    "dfpib1[dfpib1['Código do Município']==2611606]\n",
    "dfhomi.head()"
   ]
  },
  {
   "cell_type": "code",
   "execution_count": 82,
   "metadata": {},
   "outputs": [],
   "source": [
    "poplst = ['POP2016.xlsx','POP2015.xls','POP2014.xlsx', 'POP2013.xls', 'POP2012.xls','POP2011.xls','POP2009.xls',\n",
    "          'POP2008.xls','POP2006.xls','POP2005.xls','POP2004.xls','POP2003.xls','POP2002.xls']\n",
    "xls = pd.ExcelFile('datasets/pop/POP2016.xlsx')\n",
    "df2016 = pd.read_excel(xls, 'Municípios', header =2)\n",
    "df2016 = df2016[:5570]\n",
    "df2016['ANO'] = 2016\n",
    "xls = pd.ExcelFile('datasets/pop/POP2015.xls')\n",
    "df2015 = pd.read_excel(xls, 'Municípios', header =2)\n",
    "df2015 = df2015[:5570]\n",
    "df2015['ANO'] = 2015\n",
    "xls = pd.ExcelFile('datasets/pop/POP2014.XLS')\n",
    "df2014 = pd.read_excel(xls, 'Municípios', header =2)\n",
    "df2014 = df2014[:5570]\n",
    "df2014['ANO'] =  2014\n",
    "xls = pd.ExcelFile('datasets/pop/POP2013.xls')\n",
    "df2013 = pd.read_excel(xls, 'Municípios', header =1)\n",
    "df2013 = df2013[:5568]\n",
    "df2013['ANO'] =  2013\n",
    "xls = pd.ExcelFile('datasets/pop/POP2012.xls')\n",
    "df2012 = pd.read_excel(xls, 'TAB_DOU_Municípios (internet)', header =2)\n",
    "df2012 = df2012[:5565]\n",
    "df2012['ANO'] =  2012\n",
    "xls = pd.ExcelFile('datasets/pop/POP2011.xls')\n",
    "df2011 = pd.read_excel(xls, 'MUNICÍPIOS', header =2)\n",
    "df2011 = df2011[0:5565]\n",
    "df2011['ANO'] =  2011\n",
    "xls = pd.ExcelFile('datasets/pop/POP2009.xls')\n",
    "df2009 = pd.read_excel(xls, 'MUNICÍPIOS', header =4)\n",
    "df2009 = df2009[0:5565]\n",
    "df2009['ANO'] =  2009\n",
    "xls = pd.ExcelFile('datasets/pop/POP2008.xls')\n",
    "df2008 = pd.read_excel(xls, 'POP08DOU', header =4)\n",
    "df2008 = df2008[0:5565]\n",
    "df2008['ANO'] =  2008\n",
    "xls = pd.ExcelFile('datasets/pop/POP2006.xls')\n",
    "df2006 = pd.read_excel(xls, 'P5564TCU', header =4)\n",
    "df2006 = df2008[0:5565]\n",
    "df2006['ANO'] =  2006\n",
    "xls = pd.ExcelFile('datasets/pop/POP2006.xls')\n",
    "df2006 = pd.read_excel(xls, 'P5564TCU', header =4,dtype={'MUNIC': str})\n",
    "df2006 = df2006[0:5564]\n",
    "df2006['ANO'] =  2006\n",
    "#names=['SIGLA', 'CODIGOESTADO', 'CODIGO MUN', 'NOME', 'POP']\n",
    "\n",
    "\n",
    "#df2 = pd.read_excel(xls, 'Sheet2')"
   ]
  },
  {
   "cell_type": "code",
   "execution_count": 85,
   "metadata": {},
   "outputs": [
    {
     "data": {
      "text/plain": [
       "0          1\n",
       "1         37\n",
       "2         40\n",
       "3         34\n",
       "4          2\n",
       "        ... \n",
       "5559    2200\n",
       "5560    2205\n",
       "5561    2220\n",
       "5562    2230\n",
       "5563      10\n",
       "Name: MUNIC, Length: 5564, dtype: object"
      ]
     },
     "execution_count": 85,
     "metadata": {},
     "output_type": "execute_result"
    }
   ],
   "source": [
    "df2006['MUNIC']"
   ]
  },
  {
   "cell_type": "code",
   "execution_count": null,
   "metadata": {},
   "outputs": [],
   "source": []
  }
 ],
 "metadata": {
  "kernelspec": {
   "display_name": "Python 3",
   "language": "python",
   "name": "python3"
  },
  "language_info": {
   "codemirror_mode": {
    "name": "ipython",
    "version": 3
   },
   "file_extension": ".py",
   "mimetype": "text/x-python",
   "name": "python",
   "nbconvert_exporter": "python",
   "pygments_lexer": "ipython3",
   "version": "3.7.6"
  }
 },
 "nbformat": 4,
 "nbformat_minor": 4
}
